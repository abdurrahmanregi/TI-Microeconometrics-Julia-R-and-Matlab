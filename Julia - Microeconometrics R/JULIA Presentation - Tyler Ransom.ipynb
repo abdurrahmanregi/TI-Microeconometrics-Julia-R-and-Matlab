{
 "cells": [
  {
   "cell_type": "code",
   "execution_count": 1,
   "id": "joined-whale",
   "metadata": {},
   "outputs": [],
   "source": [
    "# declare packages that you will use (pretty similar to LaTeX preamble)\n",
    "\n",
    "# import Pkg\n",
    "\n",
    "# Pkg.add(\"JuMP\")\n",
    "\n",
    "# Pkg.add(\"Ipopt\")\n",
    "\n",
    "using JuMP, Ipopt\n",
    "\n",
    "# # compile functions you will be using later\n",
    "\n",
    "# include(\"datagen.jl\")\n",
    "\n",
    "# include(\"jumpMLE.jl\")\n",
    "\n",
    "# # evaluate the functions referenced above in the -include- statements.\n",
    "# # -@time- is equivalent to tic/toc in Matlab\n",
    "# @time X,Y,bAns,sigAns,n = datagen()\n",
    "# @time bOpt,sOpt = jumpMLE(Y,X,[bAns,sigAns])\n"
   ]
  },
  {
   "cell_type": "code",
   "execution_count": 2,
   "id": "filled-parent",
   "metadata": {},
   "outputs": [
    {
     "data": {
      "text/plain": [
       "jumpMLE (generic function with 1 method)"
      ]
     },
     "execution_count": 2,
     "metadata": {},
     "output_type": "execute_result"
    }
   ],
   "source": [
    "function jumpMLE(Y,X,startval)\n",
    "myMLE = Model(solver=IpoptSolver(tol=1e-8))\n",
    "@variable(myMLE, b[i=1:size(X,2)], start = startval[i])\n",
    "@variable(myMLE, s >=0.0, start = startval[end])\n",
    "# Write your objective function\n",
    "@NLobjective(myMLE, Max, (n/2)*log(1/(2*pi*s^2))-\n",
    "sum((Y[i]-sum(X[i,k]*b[k], k=1:size(X,2)))^2, i=1:size(X,1))/(2s^2))\n",
    "# Solve the objective function\n",
    "status = solve(myMLE)\n",
    "# Save estimates\n",
    "bOpt = getValue(b[:])\n",
    "sOpt = getValue(s)\n",
    "return bOpt,sOpt\n",
    "end\n"
   ]
  },
  {
   "cell_type": "code",
   "execution_count": 3,
   "id": "narrow-welcome",
   "metadata": {},
   "outputs": [
    {
     "data": {
      "text/plain": [
       "datagen (generic function with 1 method)"
      ]
     },
     "execution_count": 3,
     "metadata": {},
     "output_type": "execute_result"
    }
   ],
   "source": [
    "function datagen()\n",
    "## Generate data for a linear model to test optimization\n",
    "rand(1234)\n",
    "# N = convert(Int64,1e4)\n",
    "# T = 5\n",
    "# n = convert(Int64,N*T)\n",
    "N = 1000\n",
    "T = 5\n",
    "n = N*T\n",
    "\n",
    "# Generate the Xs\n",
    "X = [ones(N*T,1) 5+3*randn(N*T,1) rand(N*T,1) 2.5+2*randn(N*T,1) 15+3*randn(N*T,1) .7-.1*randn(N*T,1)\n",
    "5+3*randn(N*T,1) rand(N*T,1) 2.5+2*randn(N*T,1)\n",
    "15+3*randn(N*T,1) .7-.1*randn(N*T,1) 5+3*randn(N*T,1)\n",
    "rand(N*T,1) 2.5+2*randn(N*T,1) 15+3*randn(N*T,1)\n",
    ".7-.1*randn(N*T,1)]\n",
    "\n",
    "# generate the betas (X coefficients)\n",
    "bAns = [ 2.15, 0.10,\n",
    "0.50, 0.10, 0.75, 1.2,\n",
    "0.10,\n",
    "0.50, 0.10, 0.75, 1.2, 0.10,\n",
    "0.50, 0.10,\n",
    "0.75, 1.2 ]\n",
    "# generate the std dev of the errors\n",
    "sigAns = 0.3\n",
    "\n",
    "# generate the Ys from the Xs, betas, and error draws\n",
    "draw = 0 + sigAns*randn(N*T,1)\n",
    "Y = X*bAns+draw\n",
    "\n",
    "# return generated data so that other functions (below) have access\n",
    "return X,Y,bAns,sigAns,n\n",
    "end\n"
   ]
  },
  {
   "cell_type": "code",
   "execution_count": 4,
   "id": "sufficient-friendly",
   "metadata": {},
   "outputs": [
    {
     "ename": "LoadError",
     "evalue": "MethodError: no method matching +(::Int64, ::Matrix{Float64})\nFor element-wise addition, use broadcasting with dot syntax: scalar .+ array\n\u001b[0mClosest candidates are:\n\u001b[0m  +(::Any, ::Any, \u001b[91m::Any\u001b[39m, \u001b[91m::Any...\u001b[39m) at operators.jl:560\n\u001b[0m  +(::T, \u001b[91m::T\u001b[39m) where T<:Union{Int128, Int16, Int32, Int64, Int8, UInt128, UInt16, UInt32, UInt64, UInt8} at int.jl:87\n\u001b[0m  +(\u001b[91m::Union{MathOptInterface.ScalarAffineFunction{T}, MathOptInterface.ScalarQuadraticFunction{T}}\u001b[39m, ::T) where T at C:\\Users\\Regi Kusumaatmadja\\.julia\\packages\\MathOptInterface\\5WwpK\\src\\Utilities\\functions.jl:1534\n\u001b[0m  ...",
     "output_type": "error",
     "traceback": [
      "MethodError: no method matching +(::Int64, ::Matrix{Float64})\nFor element-wise addition, use broadcasting with dot syntax: scalar .+ array\n\u001b[0mClosest candidates are:\n\u001b[0m  +(::Any, ::Any, \u001b[91m::Any\u001b[39m, \u001b[91m::Any...\u001b[39m) at operators.jl:560\n\u001b[0m  +(::T, \u001b[91m::T\u001b[39m) where T<:Union{Int128, Int16, Int32, Int64, Int8, UInt128, UInt16, UInt32, UInt64, UInt8} at int.jl:87\n\u001b[0m  +(\u001b[91m::Union{MathOptInterface.ScalarAffineFunction{T}, MathOptInterface.ScalarQuadraticFunction{T}}\u001b[39m, ::T) where T at C:\\Users\\Regi Kusumaatmadja\\.julia\\packages\\MathOptInterface\\5WwpK\\src\\Utilities\\functions.jl:1534\n\u001b[0m  ...",
      "",
      "Stacktrace:",
      " [1] datagen()",
      "   @ Main .\\In[3]:12",
      " [2] top-level scope",
      "   @ .\\timing.jl:210 [inlined]",
      " [3] top-level scope",
      "   @ .\\In[4]:0",
      " [4] eval",
      "   @ .\\boot.jl:360 [inlined]",
      " [5] include_string(mapexpr::typeof(REPL.softscope), mod::Module, code::String, filename::String)",
      "   @ Base .\\loading.jl:1094"
     ]
    }
   ],
   "source": [
    "@time X,Y,bAns,sigAns,n = datagen()\n",
    "@time bOpt,sOpt = jumpMLE(Y,X,[bAns,sigAns])"
   ]
  },
  {
   "cell_type": "code",
   "execution_count": null,
   "id": "polish-tactics",
   "metadata": {},
   "outputs": [],
   "source": []
  }
 ],
 "metadata": {
  "kernelspec": {
   "display_name": "Julia 1.6.0",
   "language": "julia",
   "name": "julia-1.6"
  },
  "language_info": {
   "file_extension": ".jl",
   "mimetype": "application/julia",
   "name": "julia",
   "version": "1.6.0"
  }
 },
 "nbformat": 4,
 "nbformat_minor": 5
}

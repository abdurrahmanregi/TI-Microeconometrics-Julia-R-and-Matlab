{
 "cells": [
  {
   "cell_type": "code",
   "execution_count": null,
   "id": "numeric-guard",
   "metadata": {},
   "outputs": [],
   "source": [
    "# declare packages that you will use (pretty similar to LaTeX preamble)\n",
    "\n"
   ]
  }
 ],
 "metadata": {
  "kernelspec": {
   "display_name": "Julia 1.0.5",
   "language": "julia",
   "name": "julia-1.0"
  },
  "language_info": {
   "file_extension": ".jl",
   "mimetype": "application/julia",
   "name": "julia",
   "version": "1.0.5"
  }
 },
 "nbformat": 4,
 "nbformat_minor": 5
}

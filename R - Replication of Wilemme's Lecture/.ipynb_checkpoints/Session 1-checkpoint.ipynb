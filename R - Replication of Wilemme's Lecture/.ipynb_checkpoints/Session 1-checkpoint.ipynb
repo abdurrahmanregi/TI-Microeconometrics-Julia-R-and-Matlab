{
 "cells": [
  {
   "cell_type": "code",
   "execution_count": 5,
   "id": "tested-maldives",
   "metadata": {},
   "outputs": [],
   "source": [
    "# This code is originally from Guillaume Wilemme's Lecture on Intro to Structural Econometrics\n",
    "\n",
    "# clear memory\n",
    "rm(list = ls())\n",
    "set.seed(123456789)\n",
    "\n",
    "# packages\n",
    "# install.packages(\"optimx\")\n",
    "library(optimx)"
   ]
  },
  {
   "cell_type": "code",
   "execution_count": 6,
   "id": "finnish-rugby",
   "metadata": {},
   "outputs": [],
   "source": [
    "# build functions\n",
    "\n",
    "model1  <- function(x, beta, mu, sigma) {\n",
    "    # x is a vector of observations, x[i] is the observatoin of the i-th individual\n",
    "    # beta is the coefficient\n",
    "    # mu and sigma are the paramters of the random term\n",
    "    \n",
    "    N  <- length(x)   # N is the number of observations taken from the length of vector x\n",
    "    \n",
    "    ## sampling\n",
    "    epsilon <- rnorm(N, mu, sigma)\n",
    "    \n",
    "    ## economic modeling\n",
    "    y  <- beta * x + epsilon   # vectoral operation which creates a vector of endogenous variable y\n",
    "    \n",
    "    ## measurement\n",
    "    return(list(x_obs = x, y_obs = y))\n",
    "    \n",
    "}\n",
    "\n",
    "estim1 <- function(x, y) {\n",
    "    # vectorial OLS solution also works if x has multiple columns (multiple regressors)\n",
    "    # \\beta = (X'X)^{-1} X'y\n",
    "    betaEst  <- solve( t(x) %*% x ) %*% t(x) %*% y\n",
    "    \n",
    "    return(betaEst)\n",
    "}\n",
    "\n",
    "estim2 <- function(x, y, pdfError) {\n",
    "    # Maximum Likelihood\n",
    "    object <- function(beta) {\n",
    "        ## objective function to maximize\n",
    "        ### v is a vector of pdfError(yi - beta*xi)\n",
    "        ### Use sapply for matrix\n",
    "        v  <- sapply(y - beta * x, pdfError)\n",
    "        \n",
    "        ### sum_i log(pdfError(yi - beta*xi))\n",
    "        output <- -sum(log(v))\n",
    "        \n",
    "        return(output)\n",
    "        \n",
    "    }\n",
    "    \n",
    "    betaEst <- optimx(0,object)\n",
    "    \n",
    "    return(betaEst)\n",
    "}"
   ]
  },
  {
   "cell_type": "code",
   "execution_count": 8,
   "id": "suburban-jordan",
   "metadata": {},
   "outputs": [
    {
     "data": {
      "image/png": "[encoded data removed]",
      "text/plain": [
       "plot without title"
      ]
     },
     "metadata": {},
     "output_type": "display_data"
    }
   ],
   "source": [
    "# create dataset\n",
    "\n",
    "x <-  c(1,2,-1,3,5.6,2,7,-20,6)\n",
    "beta = 1.5\n",
    "mu = 0\n",
    "\n",
    "data1 <- model1(x, beta, mu, 5)\n",
    "\n",
    "# Plot true DGP\n",
    "plot(data1$x_obs, data1$y_obs)\n",
    "lines(data1$x_obs, beta*data1$x_obs + mu)\n"
   ]
  },
  {
   "cell_type": "code",
   "execution_count": null,
   "id": "serious-clear",
   "metadata": {},
   "outputs": [],
   "source": []
  }
 ],
 "metadata": {
  "kernelspec": {
   "display_name": "R",
   "language": "R",
   "name": "ir"
  },
  "language_info": {
   "codemirror_mode": "r",
   "file_extension": ".r",
   "mimetype": "text/x-r-source",
   "name": "R",
   "pygments_lexer": "r",
   "version": "3.6.1"
  }
 },
 "nbformat": 4,
 "nbformat_minor": 5
}

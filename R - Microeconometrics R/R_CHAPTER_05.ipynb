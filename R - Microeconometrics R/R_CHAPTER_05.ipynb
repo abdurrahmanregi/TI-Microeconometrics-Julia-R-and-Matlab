{
 "cells": [
  {
   "cell_type": "code",
   "execution_count": 1,
   "id": "plastic-harmony",
   "metadata": {},
   "outputs": [
    {
     "name": "stderr",
     "output_type": "stream",
     "text": [
      "\n",
      "Please cite as: \n",
      "\n",
      " Hlavac, Marek (2018). stargazer: Well-Formatted Regression and Summary Statistics Tables.\n",
      " R package version 5.2.2. https://CRAN.R-project.org/package=stargazer \n",
      "\n"
     ]
    },
    {
     "data": {
      "text/html": [
       "0.386"
      ],
      "text/latex": [
       "0.386"
      ],
      "text/markdown": [
       "0.386"
      ],
      "text/plain": [
       "[1] 0.386"
      ]
     },
     "metadata": {},
     "output_type": "display_data"
    },
    {
     "data": {
      "text/html": [
       "0.369441340181764"
      ],
      "text/latex": [
       "0.369441340181764"
      ],
      "text/markdown": [
       "0.369441340181764"
      ],
      "text/plain": [
       "[1] 0.3694413"
      ]
     },
     "metadata": {},
     "output_type": "display_data"
    }
   ],
   "source": [
    "# install.packages(\"stargazer\")\n",
    "# install.packages(\"mvtnorm\")\n",
    "\n",
    "library(stargazer)\n",
    "\n",
    "\n",
    "# 5.2 Revealed Preference\n",
    "\n",
    "# 5.2.2 Simulating Demand\n",
    "\n",
    "set.seed(123456789)\n",
    "N <- 1000\n",
    "u <- sort(rnorm(N,mean=1,sd=3))\n",
    "\n",
    "p <- 2     # relative price\n",
    "mean(u - p > 0)     # share of people who purchase product A is 0.386\n",
    "\n",
    "1 - pnorm(p,mean=1,sd=3) # true probability"
   ]
  },
  {
   "cell_type": "code",
   "execution_count": 2,
   "id": "broke-garden",
   "metadata": {},
   "outputs": [
    {
     "data": {
      "image/png": "[encoded data removed]",
      "text/plain": [
       "plot without title"
      ]
     },
     "metadata": {},
     "output_type": "display_data"
    }
   ],
   "source": [
    "# 5.2.3 Revealing Demand\n",
    "\n",
    "p <- runif(9,min=-10,max=10)   # nine price points, randomized from -10 to 10\n",
    "# p\n",
    "\n",
    "s <- matrix(NA, length(p),1)  # (9x1) NA matrix generate\n",
    "for (i in 1:length(p)) {\n",
    "    s[i,1] <- mean(u - p[i] > 0)\n",
    "}\n",
    "\n",
    "# plot\n",
    "plot(1 - ecdf(u)(u), u, type=\"l\", lwd=3, lty=1, col=1,\n",
    "    xlab=\"s\", ylab=\"p\", xlim=c(0,1))\n",
    "\n",
    "# ECDF(a)(a) presents the estimated probabilities of a.\n",
    "lines(sort(s),p[order(s)],type=\"l\",lwd=3,lty=2)\n",
    "\n",
    "abline(h=0, lty=2)\n",
    "\n",
    "legend(\"bottomleft\",c(\"True\",\"Est.\"), lwd=3, lty=c(1:2))\n",
    "\n",
    "\n"
   ]
  },
  {
   "cell_type": "code",
   "execution_count": 3,
   "id": "oriental-worthy",
   "metadata": {},
   "outputs": [
    {
     "data": {
      "image/png": "[encoded data removed]",
      "text/plain": [
       "plot without title"
      ]
     },
     "metadata": {},
     "output_type": "display_data"
    }
   ],
   "source": [
    "# Simple Discrete Choice Model\n",
    "\n",
    "set.seed(123456789)\n",
    "\n",
    "N <- 100\n",
    "a <- 2\n",
    "b <- -3\n",
    "u <- rnorm(N)\n",
    "x <- runif(N)\n",
    "y_star <- a + b*x + u\n",
    "y <- y_star > 0\n",
    "lm1 <- lm(y~x)\n",
    "\n",
    "plot(x,y, ylim = c(-0.2,1))\n",
    "abline(a = 2, b = -3, lwd = 2)\n",
    "abline(a = lm1$coefficients[1], b =lm1$coefficients[2],\n",
    "      lty = 2, lwd = 2)\n",
    "legend(\"bottomleft\", c(\"True\",\"Est.\"), lwd =2, lty=1:2)"
   ]
  },
  {
   "cell_type": "code",
   "execution_count": 4,
   "id": "duplicate-wrapping",
   "metadata": {},
   "outputs": [
    {
     "data": {
      "text/html": [
       "0.34"
      ],
      "text/latex": [
       "0.34"
      ],
      "text/markdown": [
       "0.34"
      ],
      "text/plain": [
       "[1] 0.34"
      ]
     },
     "metadata": {},
     "output_type": "display_data"
    },
    {
     "data": {
      "text/html": [
       "0.00045810527728724"
      ],
      "text/latex": [
       "0.00045810527728724"
      ],
      "text/markdown": [
       "0.00045810527728724"
      ],
      "text/plain": [
       "[1] 0.0004581053"
      ]
     },
     "metadata": {},
     "output_type": "display_data"
    },
    {
     "data": {
      "text/html": [
       "<dl>\n",
       "\t<dt>$minimum</dt>\n",
       "\t\t<dd>0.339991883790175</dd>\n",
       "\t<dt>$objective</dt>\n",
       "\t\t<dd>64.1035478027932</dd>\n",
       "</dl>\n"
      ],
      "text/latex": [
       "\\begin{description}\n",
       "\\item[\\$minimum] 0.339991883790175\n",
       "\\item[\\$objective] 64.1035478027932\n",
       "\\end{description}\n"
      ],
      "text/markdown": [
       "$minimum\n",
       ":   0.339991883790175\n",
       "$objective\n",
       ":   64.1035478027932\n",
       "\n",
       "\n"
      ],
      "text/plain": [
       "$minimum\n",
       "[1] 0.3399919\n",
       "\n",
       "$objective\n",
       "[1] 64.10355\n"
      ]
     },
     "metadata": {},
     "output_type": "display_data"
    }
   ],
   "source": [
    "# 5.4 Maximum Likelihood\n",
    "\n",
    "# 5.4.1 Binomial Likelihood\n",
    "# determining whether a coin is fair.\n",
    "\n",
    "set.seed(123456789)\n",
    "N <- 100\n",
    "p <- 0.367 # the true probability of Head\n",
    "Head <- runif(N) < p\n",
    "mean(Head)\n",
    "\n",
    "\n",
    "# calculate the coefficient for the binomial function\n",
    "choose(100,34)*(0.5^100)\n",
    "\n",
    "# 5.4.2 Binomial Likelihood in R\n",
    "# check Equation 5.12\n",
    "function_binom <- function(p, N, p_hat) {\n",
    "    return( -( (p_hat*N)*log(p) + (1 - p_hat)*N*log(1-p) ) )\n",
    "    \n",
    "    # Note: the negative sign in the return indicates a minimizer in optimize() function    \n",
    "}\n",
    "\n",
    "optimize( f = function_binom, interval = c(0,1), N = 100, p_hat = 0.34 )\n",
    "\n",
    "# optimize( f = function_binom, interval = c(0.5,1), N = 100, p_hat = 0.34 )\n",
    "\n",
    "p <- c(1:1000)/1000\n",
    "log_lik <- - function_binom(p, N = 100, p_hat = 0.34)\n",
    "# note that the function acts on the whole vector\n",
    "# negative to show maximum likelihood\n",
    "\n",
    "\n"
   ]
  },
  {
   "cell_type": "code",
   "execution_count": 5,
   "id": "overall-raise",
   "metadata": {},
   "outputs": [
    {
     "data": {
      "text/html": [
       "0.951963424147956"
      ],
      "text/latex": [
       "0.951963424147956"
      ],
      "text/markdown": [
       "0.951963424147956"
      ],
      "text/plain": [
       "[1] 0.9519634"
      ]
     },
     "metadata": {},
     "output_type": "display_data"
    },
    {
     "data": {
      "text/html": [
       "<ol class=list-inline>\n",
       "\t<li>1.83233304849478</li>\n",
       "\t<li>-2.64375087324145</li>\n",
       "</ol>\n"
      ],
      "text/latex": [
       "\\begin{enumerate*}\n",
       "\\item 1.83233304849478\n",
       "\\item -2.64375087324145\n",
       "\\end{enumerate*}\n"
      ],
      "text/markdown": [
       "1. 1.83233304849478\n",
       "2. -2.64375087324145\n",
       "\n",
       "\n"
      ],
      "text/plain": [
       "[1]  1.832333 -2.643751"
      ]
     },
     "metadata": {},
     "output_type": "display_data"
    }
   ],
   "source": [
    "# 5.4.4 Maximum Likelihood OLS in R\n",
    "\n",
    "# Check Equation 5.18\n",
    "\n",
    "f_ols_ml <- function(par, y, X) {\n",
    "    \n",
    "    X <- cbind(1,X)\n",
    "    N <- length(y)\n",
    "    J <- dim(X)[2]\n",
    "    sigma <- exp(par[1])\n",
    "    \n",
    "    # Note that sigma must be positive\n",
    "    # The exponential function maps from any real number to positive numbers\n",
    "    # It allows the optimizer to choose any value and transforms that number into a positive value\n",
    "    \n",
    "    beta <- par[2:(J+1)]\n",
    "    z <- (y - X%*%beta)/sigma\n",
    "    log_lik <- - sum(log(dnorm(z)) - log(sigma))\n",
    "    return(log_lik)\n",
    "    \n",
    "    # Remember we are minimizing here\n",
    "    \n",
    "}\n",
    "\n",
    "a <- optim(par = c(0,2,-3), fn = f_ols_ml, y = y_star, X = x)\n",
    "\n",
    "# Optim takes in starting values with par, then the function used and then values that the function needs\n",
    "# Here we cheat by having it start at the true values\n",
    "# sigma\n",
    "exp(a$par[1])\n",
    "\n",
    "\n",
    "# beta\n",
    "a$par[2:3]\n",
    "\n",
    "# # start from different starting values yield a similar result\n",
    "# a <- optim(par = c(0,0,0), fn = f_ols_ml, y = y_star, X = x)\n",
    "\n",
    "# exp(a$par[1])\n",
    "\n",
    "# a$par[2:3]"
   ]
  },
  {
   "cell_type": "code",
   "execution_count": 6,
   "id": "committed-enforcement",
   "metadata": {},
   "outputs": [
    {
     "data": {
      "text/html": [
       "<dl class=dl-horizontal>\n",
       "\t<dt>(Intercept)</dt>\n",
       "\t\t<dd>2.01415318744356</dd>\n",
       "\t<dt>x</dt>\n",
       "\t\t<dd>-2.83523425350758</dd>\n",
       "</dl>\n"
      ],
      "text/latex": [
       "\\begin{description*}\n",
       "\\item[(Intercept)] 2.01415318744356\n",
       "\\item[x] -2.83523425350758\n",
       "\\end{description*}\n"
      ],
      "text/markdown": [
       "(Intercept)\n",
       ":   2.01415318744356x\n",
       ":   -2.83523425350758\n",
       "\n"
      ],
      "text/plain": [
       "(Intercept)           x \n",
       "   2.014153   -2.835234 "
      ]
     },
     "metadata": {},
     "output_type": "display_data"
    },
    {
     "data": {
      "text/html": [
       "<dl class=dl-horizontal>\n",
       "\t<dt>(Intercept)</dt>\n",
       "\t\t<dd>2.01434548028436</dd>\n",
       "\t<dt>x</dt>\n",
       "\t\t<dd>-2.83536879756202</dd>\n",
       "</dl>\n"
      ],
      "text/latex": [
       "\\begin{description*}\n",
       "\\item[(Intercept)] 2.01434548028436\n",
       "\\item[x] -2.83536879756202\n",
       "\\end{description*}\n"
      ],
      "text/markdown": [
       "(Intercept)\n",
       ":   2.01434548028436x\n",
       ":   -2.83536879756202\n",
       "\n"
      ],
      "text/plain": [
       "(Intercept)           x \n",
       "   2.014345   -2.835369 "
      ]
     },
     "metadata": {},
     "output_type": "display_data"
    }
   ],
   "source": [
    "# 5.4.6 Probit in R\n",
    "#check Equations 5.19 and 5.20\n",
    "\n",
    "f_probit <- function(beta, y, X) {\n",
    "    \n",
    "    X <- cbind(1,X)\n",
    "    Xb <- X%*%beta\n",
    "    log_lik <- (1 - y)*log(pnorm(-Xb)) + y*log(pnorm(Xb))\n",
    "    return(- sum(log_lik))\n",
    "    \n",
    "}\n",
    "\n",
    "optim(par = lm1$coefficients, fn = f_probit, y = y, X = x)$par\n",
    "\n",
    "\n",
    "# 5.4.7 Generalized Linear Model\n",
    "# probit is an example of generalized linear model\n",
    "\n",
    "glm(y~x, family = binomial(link=\"probit\"))$coefficients"
   ]
  },
  {
   "cell_type": "code",
   "execution_count": 7,
   "id": "indonesian-macro",
   "metadata": {},
   "outputs": [
    {
     "data": {
      "text/plain": [
       "\n",
       "Call:  glm(formula = y ~ I(X_A - X_B), family = binomial(link = \"probit\"))\n",
       "\n",
       "Coefficients:\n",
       "     (Intercept)      I(X_A - X_B)      I(X_A - X_B)  I(X_A - X_B)nrow  \n",
       "        -0.01988                NA          -1.96095                NA  \n",
       "\n",
       "Degrees of Freedom: 9999 Total (i.e. Null);  9998 Residual\n",
       "Null Deviance:\t    13860 \n",
       "Residual Deviance: 10860 \tAIC: 10860"
      ]
     },
     "metadata": {},
     "output_type": "display_data"
    },
    {
     "data": {
      "text/plain": [
       "\n",
       "Call:  glm(formula = y ~ I(X_A - X_B), family = binomial(link = \"logit\"))\n",
       "\n",
       "Coefficients:\n",
       "     (Intercept)      I(X_A - X_B)      I(X_A - X_B)  I(X_A - X_B)nrow  \n",
       "      -1.115e-05                NA        -2.017e+00                NA  \n",
       "\n",
       "Degrees of Freedom: 9999 Total (i.e. Null);  9998 Residual\n",
       "Null Deviance:\t    13860 \n",
       "Residual Deviance: 12440 \tAIC: 12450"
      ]
     },
     "metadata": {},
     "output_type": "display_data"
    }
   ],
   "source": [
    "# 5.5 McFadden's Random Utility Model\n",
    "\n",
    "# 5.5.1 Model of Demand\n",
    "\n",
    "# 5.5.2 Probit and Logit Estimators\n",
    "\n",
    "# 5.5.3 Simulation with Probit and Logit Estimators\n",
    "# Check Equation 5.24\n",
    "\n",
    "\n",
    "#### WARNING!!!! MY CODE DOES NOT RETURN THE CORRECT FIRST AND THIRD PARAMTERS!\n",
    "\n",
    "set.seed(12345678)\n",
    "N <- 5000\n",
    "X_A <- cbind(1, matrix(runif(2*N)),nrow=N)\n",
    "X_B <- cbind(1, matrix(runif(2*N)),nrow=N)\n",
    "# here we create two products characteristics matrices\n",
    "\n",
    "beta <- c(1,-2,3)\n",
    "\n",
    "### Probit\n",
    "u_A <- rnorm(N)\n",
    "y <- X_A%*%beta - X_B%*%beta + u_A > 0\n",
    "\n",
    "glm1 <- glm(y ~ I(X_A - X_B),\n",
    "           family = binomial(link=\"probit\"))\n",
    "# note that I() does mathinside the glm() function\n",
    "glm1\n",
    "\n",
    "### Logit\n",
    "u_A <- log(rweibull(N, shape = 1))\n",
    "##### Gumbel or TEV1\n",
    "u_B <- log(rweibull(N, shape = 1))\n",
    "y <- (X_A%*%beta - X_B%*%beta) + (u_A - u_B) > 0\n",
    "glm2 <- glm(y ~ I(X_A - X_B), \n",
    "           family = binomial(link=\"logit\"))\n",
    "\n",
    "glm2\n"
   ]
  },
  {
   "cell_type": "code",
   "execution_count": 8,
   "id": "southeast-germany",
   "metadata": {},
   "outputs": [],
   "source": [
    "# 5.6 Multinomial Choice\n",
    "\n",
    "# 5.6.1 Multinomial Choice Model\n",
    "\n",
    "# 5.6.2 Multinomial Probit\n",
    "\n",
    "# 5.6.3 Multinomial Probit in R\n",
    "\n",
    "f_biprobit <- function(par, y, W1, W2, K = 10) {\n",
    "    \n",
    "    # K is a counter for the number of draws from the normal distribution\n",
    "    # - more draws gives greater accuracy\n",
    "    # but slower computation times\n",
    "    \n",
    "    # function setup\n",
    "    \n",
    "    set.seed(123456789)\n",
    "    epsilon <- 1e-20                # used below to make sure the logs work\n",
    "    \n",
    "    W1 <- cbind(1,W1)\n",
    "    W2 <- cbind(1,W2)\n",
    "    N <- dim(y)[1]                # note that y is a matrix\n",
    "    J <- dim(W1)[2]\n",
    "    rho <- exp(par[1])/( 1 + exp(par[1]) )\n",
    "    \n",
    "    # the \"sigmoid\" function that keeps value between 0 and 1\n",
    "    # It assumes that the correlation is positive\n",
    "    beta <- par[2:(J+1)]\n",
    "    \n",
    "    # Integration to find the probabilities\n",
    "    u <- rnorm(K)\n",
    "    p_00 <- p_10 <- rep(0,N)\n",
    "    \n",
    "    for (u_k in u) {\n",
    "        u_k0 <- u_k < -W1%*%beta\n",
    "        p_00 <- p_00 + u_k0*pnorm( ( -W2%*%beta - rho*u_k )/( (1 - rho^2)^(.5) ) )   # check Equation 5.31\n",
    "        p_10 <- p_10 + ( 1 - u_k0 )*pnorm( ( (W1-W2)%*%beta + (1-rho)*u_k )/( (1 - rho^2)^(.5) ) )\n",
    "    }\n",
    "    \n",
    "    # determine the likelihood\n",
    "    log_lik <- ( y[,1]==0 & y[,2]==0 )*log(p_00/K + epsilon) + \n",
    "                ( y[,1]==1 & y[,2]==0 )*log(p_10/K + epsilon) +\n",
    "                ( y[,1]==0 & y[,2]==1 )*log(1 - p_00/K - p_10/K + epsilon)\n",
    "    \n",
    "    return(-sum(log_lik))\n",
    "    \n",
    "}"
   ]
  },
  {
   "cell_type": "code",
   "execution_count": 9,
   "id": "western-insured",
   "metadata": {},
   "outputs": [],
   "source": [
    "# 5.6.4 Multinomial Logit\n",
    "\n",
    "# 5.6.5 Multinomial Logit in R\n",
    "# check Equation 5.33\n",
    "\n",
    "f_logit <- function(beta, y, W1, W2) {\n",
    "    epsilon <- 1e-20\n",
    "    W1 <- as.matrix(cbind(1,W1))\n",
    "    W2 <- as.matrix(cbind(1,W2))\n",
    "    W1b <- W1%*%beta\n",
    "    W2b <- W2%*%beta\n",
    "    p_10 <- exp( W1b )/( 1 + exp(W1b) + exp(W2b) )\n",
    "    p_01 <- exp( W2b )/( 1 + exp(W1b) + exp(W2b) )\n",
    "    p_00 <- 1 - p_10 - p_01\n",
    "    \n",
    "    log_lik <- ( y[,1]==0 & y[,2]==0 )*log(p_00 + epsilon) +\n",
    "                ( y[,1]==1 & y[,2]==0 )*log(p_10 + epsilon) +\n",
    "                ( y[,1]==0 & y[,2]==1 )*log(p_01 + epsilon)\n",
    "    \n",
    "    return(-sum(log_lik))\n",
    "}"
   ]
  },
  {
   "cell_type": "code",
   "execution_count": 10,
   "id": "green-rainbow",
   "metadata": {},
   "outputs": [
    {
     "name": "stderr",
     "output_type": "stream",
     "text": [
      "Loading required package: mvtnorm\n",
      "Warning message:\n",
      "\"package 'mvtnorm' was built under R version 3.6.3\""
     ]
    },
    {
     "data": {
      "text/plain": [
       "Time difference of 41.43295 secs"
      ]
     },
     "metadata": {},
     "output_type": "display_data"
    },
    {
     "data": {
      "text/html": [
       "<ol class=list-inline>\n",
       "\t<li>-0.806507437204056</li>\n",
       "\t<li>-2.54654735377851</li>\n",
       "\t<li>3.2934327139574</li>\n",
       "</ol>\n"
      ],
      "text/latex": [
       "\\begin{enumerate*}\n",
       "\\item -0.806507437204056\n",
       "\\item -2.54654735377851\n",
       "\\item 3.2934327139574\n",
       "\\end{enumerate*}\n"
      ],
      "text/markdown": [
       "1. -0.806507437204056\n",
       "2. -2.54654735377851\n",
       "3. 3.2934327139574\n",
       "\n",
       "\n"
      ],
      "text/plain": [
       "[1] -0.8065074 -2.5465474  3.2934327"
      ]
     },
     "metadata": {},
     "output_type": "display_data"
    }
   ],
   "source": [
    "# 5.6.6 Simulating Multinomial Choice\n",
    "\n",
    "require(mvtnorm)\n",
    "# this package creates multivariate normal distributions\n",
    "\n",
    "set.seed(123456789)\n",
    "mu <- c(0,0)\n",
    "rho <- 0.1           # correlation parameter\n",
    "Sigma <- cbind(c(1,rho), c(rho,1))\n",
    "\n",
    "# N x 2\n",
    "u <- rmvnorm(N, mean = mu, sigma = Sigma)\n",
    "\n",
    "# relative unobserved charateristics of two choices\n",
    "x1 <- matrix(runif(N*2),nrow=N)\n",
    "x2 <- matrix(runif(N*2),nrow=N)\n",
    "# creates matrix of N x 2 random numbers\n",
    "\n",
    "# relative observed characteristics of two choices\n",
    "a <- -1\n",
    "b <- -3\n",
    "c <- 4\n",
    "U <- a + b*x1 + c*x2 + u\n",
    "y <- matrix(0,N,2)\n",
    "y[,1] <- U[,1] > 0 & U[,1] > U[,2]\n",
    "y[,2] <- U[,2] > 0 & U[,2] > U[,1]\n",
    "\n",
    "\n",
    "par <- c(log(rho), a,b,c)\n",
    "W1 <- cbind(x1[,1], x2[,1])\n",
    "W2 <- cbind(x1[,2], x2[,2])\n",
    "start_time <- Sys.time()\n",
    "\n",
    "a1 <- optim(par = par,\n",
    "           fn = f_biprobit,\n",
    "           y = y,\n",
    "           W1 = W1,\n",
    "           W2 = W2,\n",
    "           K = 100, \n",
    "           control = list(trace=0, maxit=1000))\n",
    "\n",
    "# time of f_biprobit\n",
    "Sys.time() - start_time\n",
    "\n",
    "a1$par[2:4]           # far better than multinomial logit!!"
   ]
  },
  {
   "cell_type": "code",
   "execution_count": 11,
   "id": "corrected-uniform",
   "metadata": {},
   "outputs": [
    {
     "data": {
      "text/plain": [
       "Time difference of 0.371654 secs"
      ]
     },
     "metadata": {},
     "output_type": "display_data"
    },
    {
     "data": {
      "text/html": [
       "<ol class=list-inline>\n",
       "\t<li>-1.57820733076208</li>\n",
       "\t<li>-4.77971525917513</li>\n",
       "\t<li>6.5455246288662</li>\n",
       "</ol>\n"
      ],
      "text/latex": [
       "\\begin{enumerate*}\n",
       "\\item -1.57820733076208\n",
       "\\item -4.77971525917513\n",
       "\\item 6.5455246288662\n",
       "\\end{enumerate*}\n"
      ],
      "text/markdown": [
       "1. -1.57820733076208\n",
       "2. -4.77971525917513\n",
       "3. 6.5455246288662\n",
       "\n",
       "\n"
      ],
      "text/plain": [
       "[1] -1.578207 -4.779715  6.545525"
      ]
     },
     "metadata": {},
     "output_type": "display_data"
    }
   ],
   "source": [
    "par <- c(a,b,c)\n",
    "start_time <- Sys.time()\n",
    "\n",
    "b1 <- optim(par = par,\n",
    "           fn = f_logit,\n",
    "           y = y,\n",
    "           W1 = W1, \n",
    "           W2 = W2,\n",
    "           control = list(trace=0, maxit=1000))\n",
    "# time of f_logit\n",
    "Sys.time() - start_time\n",
    "\n",
    "b1$par[1:3]           # really bad!\n",
    "\n",
    "# this is not surprising since the assumptions of the model do not hold in the simulated data\n",
    "# but it gets the result real quick"
   ]
  },
  {
   "cell_type": "code",
   "execution_count": 12,
   "id": "cross-manitoba",
   "metadata": {},
   "outputs": [
    {
     "data": {
      "text/html": [
       "<table>\n",
       "<thead><tr><th></th><th scope=col>Rail</th><th scope=col>No Rail</th></tr></thead>\n",
       "<tbody>\n",
       "\t<tr><th scope=row>car1</th><td>0.87792498</td><td>0.97386146</td></tr>\n",
       "\t<tr><th scope=row>train1</th><td>0.09661046</td><td>0.01003613</td></tr>\n",
       "\t<tr><th scope=row>home</th><td>0.73012732</td><td>0.74923056</td></tr>\n",
       "\t<tr><th scope=row>HHSIZE</th><td>2.48786992</td><td>2.46242027</td></tr>\n",
       "\t<tr><th scope=row>income</th><td>7.51884033</td><td>7.05455194</td></tr>\n",
       "\t<tr><th scope=row>urban1</th><td>0.91027185</td><td>0.86975333</td></tr>\n",
       "\t<tr><th scope=row>density</th><td>7.55907605</td><td>4.66193630</td></tr>\n",
       "</tbody>\n",
       "</table>\n"
      ],
      "text/latex": [
       "\\begin{tabular}{r|ll}\n",
       "  & Rail & No Rail\\\\\n",
       "\\hline\n",
       "\tcar1 & 0.87792498 & 0.97386146\\\\\n",
       "\ttrain1 & 0.09661046 & 0.01003613\\\\\n",
       "\thome & 0.73012732 & 0.74923056\\\\\n",
       "\tHHSIZE & 2.48786992 & 2.46242027\\\\\n",
       "\tincome & 7.51884033 & 7.05455194\\\\\n",
       "\turban1 & 0.91027185 & 0.86975333\\\\\n",
       "\tdensity & 7.55907605 & 4.66193630\\\\\n",
       "\\end{tabular}\n"
      ],
      "text/markdown": [
       "\n",
       "| <!--/--> | Rail | No Rail |\n",
       "|---|---|---|\n",
       "| car1 | 0.87792498 | 0.97386146 |\n",
       "| train1 | 0.09661046 | 0.01003613 |\n",
       "| home | 0.73012732 | 0.74923056 |\n",
       "| HHSIZE | 2.48786992 | 2.46242027 |\n",
       "| income | 7.51884033 | 7.05455194 |\n",
       "| urban1 | 0.91027185 | 0.86975333 |\n",
       "| density | 7.55907605 | 4.66193630 |\n",
       "\n"
      ],
      "text/plain": [
       "        Rail       No Rail   \n",
       "car1    0.87792498 0.97386146\n",
       "train1  0.09661046 0.01003613\n",
       "home    0.73012732 0.74923056\n",
       "HHSIZE  2.48786992 2.46242027\n",
       "income  7.51884033 7.05455194\n",
       "urban1  0.91027185 0.86975333\n",
       "density 7.55907605 4.66193630"
      ]
     },
     "metadata": {},
     "output_type": "display_data"
    }
   ],
   "source": [
    "# 5.7 Demand for Rail\n",
    "\n",
    "# 5.7.1 National Household Travel Survey\n",
    "\n",
    "## Data and Creating Variables\n",
    "x <- read.csv(\"C:/Users/Regi Kusumaatmadja/Dropbox/TI Microeconometrics Julia, R and Matlab/Julia - Microeconometrics R/hhpub.csv\", as.is=TRUE)\n",
    "\n",
    "x$choice <- NA\n",
    "x$choice <- ifelse(x$CAR==1, \"car\", x$choice)\n",
    "x$choice <- ifelse(x$BUS==1, \"bus\", x$choice)\n",
    "x$choice <- ifelse(x$TRAIN==1, \"train\", x$choice)\n",
    "\n",
    "# Note that this overrules the previous choice\n",
    "x$car1 <- x$choice == \"car\"\n",
    "x$train1 <- x$choice == \"train\"\n",
    "\n",
    "# Adjusting variables to account for missing\n",
    "x$home <- ifelse(x$HOMEOWN==1, 1, NA)\n",
    "x$home <- ifelse(x$HOMEOWN>1, 0, x$home)\n",
    "# home ownership\n",
    "\n",
    "x$income <- ifelse(x$HHFAMINC > 0, x$HHFAMINC, NA)\n",
    "# household income\n",
    "\n",
    "x$density <- ifelse(x$HTPPOPDN==-9, NA, x$HTPPOPDN)/1000\n",
    "# missing is -9\n",
    "# population density\n",
    "# dividing by 1000 makes the reported results look nicer\n",
    "\n",
    "x$urban1 <- x$URBAN==1   # urban versus rural\n",
    "y <- x[x$WRKCOUNT > 0 & (x$MSACAT == 1 | x$MSACAT == 2),]\n",
    "# limit to households that may commute and those that live in some type of city\n",
    "\n",
    "y$rail <- y$RAIL == 1\n",
    "# an MSA with rail\n",
    "\n",
    "index_na <- is.na(rowSums( cbind(y$car1, y$train1, \n",
    "                                y$home, y$HHSIZE, y$income,\n",
    "                                y$urban1, y$density, y$MSACAT,\n",
    "                                y$rail) ))==0\n",
    "\n",
    "y <- y[index_na,] # drop missing\n",
    "\n",
    "\n",
    "vars <- c(\"car1\", \"train1\",\"home\",\"HHSIZE\",\"income\",\"urban1\",\"density\")\n",
    "summ_tab <- matrix(NA, length(vars),2)\n",
    "for (i  in 1:length(vars)) {\n",
    "    summ_tab[i,1] <- mean(y[y$rail==1, colnames(y)==vars[i]])\n",
    "    summ_tab[i,2] <- mean(y[y$rail==0, colnames(y)==vars[i]])\n",
    "}\n",
    "\n",
    "row.names(summ_tab) <- vars\n",
    "colnames(summ_tab) <- c(\"Rail\",\"No Rail\")\n",
    "summ_tab"
   ]
  },
  {
   "cell_type": "code",
   "execution_count": 14,
   "id": "disabled-adoption",
   "metadata": {},
   "outputs": [],
   "source": [
    "# 5.7.2 Demand for Cars\n",
    "# Without Rail\n",
    "y_nr <- y[y$rail==0,]\n",
    "glm_nr <- glm(car1 ~ home + HHSIZE + income + urban1 + density, data = y_nr,\n",
    "             family = binomial(link=logit))\n",
    "\n",
    "# With Rail\n",
    "y_r <- y[y$rail == 1,]\n",
    "glm_r <- glm(car1 ~ home + HHSIZE + income + urban1 + density, data = y_r,\n",
    "            family = binomial(link=logit))\n",
    "\n",
    "# y_res <- c(y_nr, y_r)\n",
    "\n",
    "# stargazer(list(y_res))"
   ]
  },
  {
   "cell_type": "code",
   "execution_count": null,
   "id": "sunrise-orleans",
   "metadata": {},
   "outputs": [],
   "source": []
  }
 ],
 "metadata": {
  "kernelspec": {
   "display_name": "R",
   "language": "R",
   "name": "ir"
  },
  "language_info": {
   "codemirror_mode": "r",
   "file_extension": ".r",
   "mimetype": "text/x-r-source",
   "name": "R",
   "pygments_lexer": "r",
   "version": "3.6.1"
  }
 },
 "nbformat": 4,
 "nbformat_minor": 5
}
